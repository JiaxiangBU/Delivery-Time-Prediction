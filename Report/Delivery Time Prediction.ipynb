{
 "cells": [
  {
   "cell_type": "markdown",
   "metadata": {},
   "source": [
    "# Delivery time prediction\n",
    "\n",
    "###### by Sidharth Suman\n",
    "\n",
    "### __Problem statement__\n",
    "\n",
    "Fulfilling food orders are very time sensitive; the customer expects very fast delivery.  To improve service times, you need to\n",
    "develop an ETA prediction scheme.  Given the time of day, and the distance to be travelled, we would like to estimate the time it takes to deliver an order (ETA).  Note that this may vary from city to city.\n",
    "\n",
    "\n"
   ]
  },
  {
   "cell_type": "code",
   "execution_count": 15,
   "metadata": {
    "collapsed": true
   },
   "outputs": [],
   "source": [
    "import csv\n",
    "from matplotlib import pyplot\n",
    "\n",
    "from datetime import datetime\n",
    "import geopy.distance\n",
    "import numpy as np\n",
    "\n",
    "data_list = []\n",
    "distance = []\n",
    "time_taken_minutes = []\n",
    "with open(\"data_problem_1.csv\", \"r\") as data_file:\n",
    "    data_dict = csv.DictReader(data_file)\n",
    "\n",
    "    for line in data_dict:\n",
    "        data_list.append(line)\n",
    "        \n",
    "\n",
    "    for row in data_list:\n",
    "        row['R_Lon'] = float(row['R_Lon'])\n",
    "        row['R_Lat'] = float(row['R_Lat'])\n",
    "        row['C_Lat'] = float(row['C_Lat'])\n",
    "        row['C_Lon'] = float(row['C_Lon'])\n",
    "\n",
    "        row['order_pickedup_time'] = datetime.strptime(row['order_pickedup_time'], \"%Y-%m-%d %H:%M:%S\")\n",
    "        row['order_delivered_time'] = datetime.strptime(row['order_delivered_time'], \"%Y-%m-%d %H:%M:%S\")\n",
    "\n",
    "        pickup_lat = row['R_Lat']\n",
    "        pickup_lon = row['R_Lon']\n",
    "        drop_lat = row['C_Lat']\n",
    "        drop_lon = row['C_Lon']\n",
    "\n",
    "        coords_1 = (pickup_lat, pickup_lon)\n",
    "        coords_2 = (drop_lat, drop_lon)\n",
    "\n",
    "        row['distance'] = geopy.distance.vincenty(coords_1, coords_2).km\n",
    "        row['time_taken'] = row['order_delivered_time'] - row['order_pickedup_time']\n",
    "        \n",
    "        distance.append(float(row['distance']))\n",
    "        \n",
    "        \n",
    "        secs = row['time_taken'].total_seconds()\n",
    "        hours = int(secs / 3600)\n",
    "        minutes = int(secs / 60) % 60\n",
    "        seconds = int(secs) % 60\n",
    "        row['time_taken_hr'] = hours\n",
    "        row['time_taken_minutes'] = minutes \n",
    "        time_taken_minutes.append(row['time_taken_minutes'])\n",
    "        "
   ]
  },
  {
   "cell_type": "code",
   "execution_count": 18,
   "metadata": {},
   "outputs": [
    {
     "data": {
      "image/png": "[encoded data removed]",
      "text/plain": [
       "<matplotlib.figure.Figure at 0x1f774780>"
      ]
     },
     "metadata": {},
     "output_type": "display_data"
    }
   ],
   "source": [
    "pyplot.scatter(time_taken_minutes,distance)   \n",
    "pyplot.xlabel('time_taken_minutes')\n",
    "pyplot.ylabel('distance')\n",
    "pyplot.show()"
   ]
  },
  {
   "cell_type": "markdown",
   "metadata": {},
   "source": [
    "### Solution Aproach\n",
    "\n",
    "In Machine Learning, it is common practice to begin with the most naive approach before putting more time and effort into developing a more complex model or set of features. This data is practically crying out for regression modeling. It’s tempting to brainstorm unusual and clever features or advanced models, but it’s always good to start with bread-and-butter techniques. \n",
    "Therefore, I have started with Linear Regression.\n",
    "\n",
    "As per my understanding, the goal of this project is to make a machine learning program that helps us predict the time taken for a delivery on the basis of pickup and drop location and pick and drop time. So, I have created some new features with the help of features provided to us.\n",
    "\n",
    "##### Feature Creation \n",
    "Some of the additional features that we could use are the distance between the pickup and drop location and the time taken for an order to get delivered. Other than that a a feature to represent the part of the day that is morning evening and night could have been created but I have refrained from doing so in the initial stages.\n",
    "\n",
    "distance --> distance between the pickup and drop location\n",
    "\n",
    "time_taken --> time taken to drop a package\n",
    "\n",
    "time_taken_minutes --> time taken to drop a package(in minutes)\n",
    "\n",
    "order_pickedup_time_hr--> hour in which the order was picked up\n",
    "\n",
    "order_pickedup_weekday --> day of the week in which order was picked\n",
    "\n",
    "I used __time_taken_minutes__ because most of the deliveries were made in an hour and __order_pickedup_time_hr__ was used as an aproach towards measuring time of the day.\n",
    "\n",
    "I have used geopy package to calculate the distance and Vincenty distance is calculated instead of Haversine distance as Haversine assumes that earth is a perfect sphere. Geopy is a Python 2 and 3 client for several popular geocoding web services.\n",
    "Geopy makes it easy for Python developers to locate the coordinates of addresses, cities, countries, and landmarks across the globe using third-party geocoders and other data sources.\n",
    "\n",
    "##### Validation\n",
    "In layman's words, validation can be seen as a process of testing our model(or algorithm) to see if it works in the expected order and generates relevant results. In machine learning, it's a process in where a trained model is evaluated with a testing data set. Typically, the provided dataset is divided in two different datasets(the training dataset and testing dataset) in a ratio of 7:3 respectively and the model is trained on the training dataset and then validated on the testing dataset. A classic error in the process of validation would be to train the model or algorithm on the whole dataset and then test(or validate) the algorithm on a part of the same dataset. This will result in overfitting in the model and will lead to innaccurate evaluation metrics and a poor(and unpredicatable) performance on a new(or unseen) dataset.\n",
    "\n",
    "Here, KFold cross-validation is used with 50 iterations."
   ]
  },
  {
   "cell_type": "markdown",
   "metadata": {},
   "source": [
    "##### Evaluation Metric\n",
    "\n",
    "Finally, we used R-squared value and MAE(mean absolute error) as our evaluation metric because in the Linear Regression model R-squared is the default score measure and is usvally between 0 and 1 and MAE tells us about maximum possible innaccunracy in our model. \n",
    "\n",
    "##### Conclusion\n",
    "\n",
    "Our R-squared score is 0.0109 which is very low and our MAE value is 8.269 that shows that our predicted time can be 8.27 minutes of the correct value.\n",
    "\n",
    "##### Possible Improvements\n",
    "So, as the measures show a lot of work needs to be done.\n",
    "Some of the possible improvements are as follows:\n",
    "\n",
    "* Measuring time correctly instead of only interms of hour and minutes.\n",
    "* Better regression model\n",
    "* Taking the geographical region into account as a new feature."
   ]
  }
 ],
 "metadata": {
  "kernelspec": {
   "display_name": "Python 2",
   "language": "python",
   "name": "python2"
  },
  "language_info": {
   "codemirror_mode": {
    "name": "ipython",
    "version": 2
   },
   "file_extension": ".py",
   "mimetype": "text/x-python",
   "name": "python",
   "nbconvert_exporter": "python",
   "pygments_lexer": "ipython2",
   "version": "2.7.13"
  }
 },
 "nbformat": 4,
 "nbformat_minor": 2
}
